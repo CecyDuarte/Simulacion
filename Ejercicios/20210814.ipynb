{
 "cells": [
  {
   "cell_type": "markdown",
   "id": "acdf60ae",
   "metadata": {},
   "source": [
    "# Pruebas de bondad de ajuste"
   ]
  },
  {
   "cell_type": "markdown",
   "id": "069cae26",
   "metadata": {},
   "source": [
    "**Prueba Kolmogorov**"
   ]
  },
  {
   "cell_type": "code",
   "execution_count": 5,
   "id": "29423500",
   "metadata": {},
   "outputs": [],
   "source": [
    "datos<-c(0.14, 0.16, 0.28, 0.37, 0.42, 0.55, 0.83, 0.87, 0.92, 0.99)"
   ]
  },
  {
   "cell_type": "code",
   "execution_count": 2,
   "id": "25a17298",
   "metadata": {},
   "outputs": [
    {
     "data": {
      "text/plain": [
       "\n",
       "\tOne-sample Kolmogorov-Smirnov test\n",
       "\n",
       "data:  datos\n",
       "D = 0.23, p-value = 0.5886\n",
       "alternative hypothesis: two-sided\n"
      ]
     },
     "metadata": {},
     "output_type": "display_data"
    }
   ],
   "source": [
    "ks.test(datos, \"punif\")"
   ]
  },
  {
   "cell_type": "markdown",
   "id": "c28d9aab",
   "metadata": {},
   "source": [
    "Como $\\textrm{P}_{valor}=P_(H_0)(D_n>0.23)=0.5886$\n",
    "$\\Rightarrow$ No se rechaza la $H_0$"
   ]
  },
  {
   "cell_type": "code",
   "execution_count": null,
   "id": "8691e317",
   "metadata": {},
   "outputs": [],
   "source": []
  }
 ],
 "metadata": {
  "kernelspec": {
   "display_name": "R",
   "language": "R",
   "name": "ir"
  },
  "language_info": {
   "codemirror_mode": "r",
   "file_extension": ".r",
   "mimetype": "text/x-r-source",
   "name": "R",
   "pygments_lexer": "r",
   "version": "3.6.1"
  }
 },
 "nbformat": 4,
 "nbformat_minor": 5
}
