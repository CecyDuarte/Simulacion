{
 "cells": [
  {
   "cell_type": "markdown",
   "id": "29a6a7d6",
   "metadata": {},
   "source": [
    "# Ejercicio 7"
   ]
  },
  {
   "cell_type": "code",
   "execution_count": 18,
   "id": "1b4e3cfe",
   "metadata": {},
   "outputs": [],
   "source": [
    "library(kolmim)"
   ]
  },
  {
   "cell_type": "code",
   "execution_count": 19,
   "id": "dc5d7842",
   "metadata": {},
   "outputs": [],
   "source": [
    "datos <- c(0.12,0.18,0.06,0.33,0.72,0.83,0.36,0.27,0.77,0.74)"
   ]
  },
  {
   "cell_type": "code",
   "execution_count": 26,
   "id": "66d40b28",
   "metadata": {},
   "outputs": [],
   "source": [
    "help(pkolmim)"
   ]
  },
  {
   "cell_type": "code",
   "execution_count": 27,
   "id": "d652ddf5",
   "metadata": {},
   "outputs": [],
   "source": [
    "PruebaKS <- function(datos){\n",
    "  n <- length(datos)\n",
    "  datos <- sort(datos)\n",
    "  F0d <- c(1:n)/n\n",
    "  F0i <- c(0:(n-1))/n\n",
    "  Dd <- F0d - datos\n",
    "  Di <- datos - F0i\n",
    "  Estadistico <- max(max(Dd),max(Di))\n",
    "  pvalor <- pkolmim(Estadistico,10)\n",
    "  print(Estadistico)\n",
    "  print(1-pvalor)\n",
    "}"
   ]
  },
  {
   "cell_type": "code",
   "execution_count": 28,
   "id": "ce4142ab",
   "metadata": {},
   "outputs": [
    {
     "name": "stdout",
     "output_type": "stream",
     "text": [
      "[1] 0.24\n",
      "[1] 0.5354976\n"
     ]
    }
   ],
   "source": [
    "PruebaKS(datos)"
   ]
  },
  {
   "cell_type": "code",
   "execution_count": 24,
   "id": "0ee7e30b",
   "metadata": {},
   "outputs": [
    {
     "data": {
      "text/plain": [
       "\n",
       "\tOne-sample Kolmogorov-Smirnov test\n",
       "\n",
       "data:  datos\n",
       "D = 0.24, p-value = 0.5355\n",
       "alternative hypothesis: two-sided\n"
      ]
     },
     "metadata": {},
     "output_type": "display_data"
    }
   ],
   "source": [
    "ks.test(datos, \"punif\")"
   ]
  },
  {
   "cell_type": "markdown",
   "id": "e0ad48f2",
   "metadata": {},
   "source": [
    "# Ejercio 8"
   ]
  },
  {
   "cell_type": "markdown",
   "id": "92b0ed89",
   "metadata": {},
   "source": [
    "**Datos**"
   ]
  },
  {
   "cell_type": "code",
   "execution_count": 1,
   "id": "84b79d1e",
   "metadata": {},
   "outputs": [],
   "source": [
    "U<-c(0.5363, 0.4192, 0.2380, 0.4115, 0.1962, 0.7162, 0.5071, 0.4916, 0.2117, 0.8492, 0.5944, 0.9520, 0.0584,0.2064, 0.8266, 0.1358, 0.2955, 0.5663, 0.9072, 0.5870, 0.2620, 0.9573, 0.9014, 0.1642, 0.6923, 0.1430,0.9033, 0.1699, 0.2002, 0.7231, 0.4810, 0.5555, 0.7825, 0.4421, 0.4167, 0.1375, 0.9912, 0.0783, 0.1760, 0.1100, 0.4096, 0.7191, 0.1694, 0.5108, 0.9553, 0.3498, 0.0165, 0.2614, 0.7960, 0.4162, 0.4118, 0.4516,0.4990, 0.6536, 0.6504, 0.3417, 0.6571, 0.3854, 0.5794, 0.4451, 0.1348, 0.6358, 0.8998, 0.3491, 0.6502,0.4542, 0.2489, 0.0988, 0.9083, 0.3196, 0.5224, 0.9461, 0.5323, 0.6257, 0.4288, 0.2408, 0.6850, 0.7959,0.4379, 0.3245, 0.0422, 0.3839, 0.6000, 0.1982, 0.8860, 0.9616, 0.8239, 0.8747, 0.4213, 0.6839, 0.1586, 0.9182, 0.8675, 0.8017, 0.3662, 0.8181, 0.5988, 0.9744, 0.9145, 0.7408, 0.3749, 0.2529, 0.6917, 0.5475,0.8563, 0.5962, 0.8680, 0.2174, 0.7512, 0.1067)"
   ]
  },
  {
   "cell_type": "markdown",
   "id": "e8a937c8",
   "metadata": {},
   "source": [
    "**La obtención del número de rachas**"
   ]
  },
  {
   "cell_type": "code",
   "execution_count": 2,
   "id": "4ff3e8f2",
   "metadata": {},
   "outputs": [],
   "source": [
    "k<-length(U)"
   ]
  },
  {
   "cell_type": "code",
   "execution_count": 3,
   "id": "a55f7a62",
   "metadata": {},
   "outputs": [],
   "source": [
    "rachas<-vector()"
   ]
  },
  {
   "cell_type": "code",
   "execution_count": 4,
   "id": "1a066bd4",
   "metadata": {},
   "outputs": [],
   "source": [
    "for(i in 1:k){\n",
    "    rachas[i]<-sign(U[i+1]-U[i])\n",
    "}"
   ]
  },
  {
   "cell_type": "code",
   "execution_count": 5,
   "id": "8c3880b8",
   "metadata": {},
   "outputs": [
    {
     "data": {
      "text/html": [
       "<ol class=list-inline>\n",
       "\t<li>-1</li>\n",
       "\t<li>-1</li>\n",
       "\t<li>1</li>\n",
       "\t<li>-1</li>\n",
       "\t<li>1</li>\n",
       "\t<li>-1</li>\n",
       "\t<li>-1</li>\n",
       "\t<li>-1</li>\n",
       "\t<li>1</li>\n",
       "\t<li>-1</li>\n",
       "\t<li>1</li>\n",
       "\t<li>-1</li>\n",
       "\t<li>1</li>\n",
       "\t<li>1</li>\n",
       "\t<li>-1</li>\n",
       "\t<li>1</li>\n",
       "\t<li>1</li>\n",
       "\t<li>1</li>\n",
       "\t<li>-1</li>\n",
       "\t<li>-1</li>\n",
       "\t<li>1</li>\n",
       "\t<li>-1</li>\n",
       "\t<li>-1</li>\n",
       "\t<li>1</li>\n",
       "\t<li>-1</li>\n",
       "\t<li>1</li>\n",
       "\t<li>-1</li>\n",
       "\t<li>1</li>\n",
       "\t<li>1</li>\n",
       "\t<li>-1</li>\n",
       "\t<li>1</li>\n",
       "\t<li>1</li>\n",
       "\t<li>-1</li>\n",
       "\t<li>-1</li>\n",
       "\t<li>-1</li>\n",
       "\t<li>1</li>\n",
       "\t<li>-1</li>\n",
       "\t<li>1</li>\n",
       "\t<li>-1</li>\n",
       "\t<li>1</li>\n",
       "\t<li>1</li>\n",
       "\t<li>-1</li>\n",
       "\t<li>1</li>\n",
       "\t<li>1</li>\n",
       "\t<li>-1</li>\n",
       "\t<li>-1</li>\n",
       "\t<li>1</li>\n",
       "\t<li>1</li>\n",
       "\t<li>-1</li>\n",
       "\t<li>-1</li>\n",
       "\t<li>1</li>\n",
       "\t<li>1</li>\n",
       "\t<li>1</li>\n",
       "\t<li>-1</li>\n",
       "\t<li>-1</li>\n",
       "\t<li>1</li>\n",
       "\t<li>-1</li>\n",
       "\t<li>1</li>\n",
       "\t<li>-1</li>\n",
       "\t<li>-1</li>\n",
       "\t<li>1</li>\n",
       "\t<li>1</li>\n",
       "\t<li>-1</li>\n",
       "\t<li>1</li>\n",
       "\t<li>-1</li>\n",
       "\t<li>-1</li>\n",
       "\t<li>-1</li>\n",
       "\t<li>1</li>\n",
       "\t<li>-1</li>\n",
       "\t<li>1</li>\n",
       "\t<li>1</li>\n",
       "\t<li>-1</li>\n",
       "\t<li>1</li>\n",
       "\t<li>-1</li>\n",
       "\t<li>-1</li>\n",
       "\t<li>1</li>\n",
       "\t<li>1</li>\n",
       "\t<li>-1</li>\n",
       "\t<li>-1</li>\n",
       "\t<li>-1</li>\n",
       "\t<li>1</li>\n",
       "\t<li>1</li>\n",
       "\t<li>-1</li>\n",
       "\t<li>1</li>\n",
       "\t<li>1</li>\n",
       "\t<li>-1</li>\n",
       "\t<li>1</li>\n",
       "\t<li>-1</li>\n",
       "\t<li>1</li>\n",
       "\t<li>-1</li>\n",
       "\t<li>1</li>\n",
       "\t<li>-1</li>\n",
       "\t<li>-1</li>\n",
       "\t<li>-1</li>\n",
       "\t<li>1</li>\n",
       "\t<li>-1</li>\n",
       "\t<li>1</li>\n",
       "\t<li>-1</li>\n",
       "\t<li>-1</li>\n",
       "\t<li>-1</li>\n",
       "\t<li>-1</li>\n",
       "\t<li>1</li>\n",
       "\t<li>-1</li>\n",
       "\t<li>1</li>\n",
       "\t<li>-1</li>\n",
       "\t<li>1</li>\n",
       "\t<li>-1</li>\n",
       "\t<li>1</li>\n",
       "\t<li>-1</li>\n",
       "\t<li>&lt;NA&gt;</li>\n",
       "</ol>\n"
      ],
      "text/latex": [
       "\\begin{enumerate*}\n",
       "\\item -1\n",
       "\\item -1\n",
       "\\item 1\n",
       "\\item -1\n",
       "\\item 1\n",
       "\\item -1\n",
       "\\item -1\n",
       "\\item -1\n",
       "\\item 1\n",
       "\\item -1\n",
       "\\item 1\n",
       "\\item -1\n",
       "\\item 1\n",
       "\\item 1\n",
       "\\item -1\n",
       "\\item 1\n",
       "\\item 1\n",
       "\\item 1\n",
       "\\item -1\n",
       "\\item -1\n",
       "\\item 1\n",
       "\\item -1\n",
       "\\item -1\n",
       "\\item 1\n",
       "\\item -1\n",
       "\\item 1\n",
       "\\item -1\n",
       "\\item 1\n",
       "\\item 1\n",
       "\\item -1\n",
       "\\item 1\n",
       "\\item 1\n",
       "\\item -1\n",
       "\\item -1\n",
       "\\item -1\n",
       "\\item 1\n",
       "\\item -1\n",
       "\\item 1\n",
       "\\item -1\n",
       "\\item 1\n",
       "\\item 1\n",
       "\\item -1\n",
       "\\item 1\n",
       "\\item 1\n",
       "\\item -1\n",
       "\\item -1\n",
       "\\item 1\n",
       "\\item 1\n",
       "\\item -1\n",
       "\\item -1\n",
       "\\item 1\n",
       "\\item 1\n",
       "\\item 1\n",
       "\\item -1\n",
       "\\item -1\n",
       "\\item 1\n",
       "\\item -1\n",
       "\\item 1\n",
       "\\item -1\n",
       "\\item -1\n",
       "\\item 1\n",
       "\\item 1\n",
       "\\item -1\n",
       "\\item 1\n",
       "\\item -1\n",
       "\\item -1\n",
       "\\item -1\n",
       "\\item 1\n",
       "\\item -1\n",
       "\\item 1\n",
       "\\item 1\n",
       "\\item -1\n",
       "\\item 1\n",
       "\\item -1\n",
       "\\item -1\n",
       "\\item 1\n",
       "\\item 1\n",
       "\\item -1\n",
       "\\item -1\n",
       "\\item -1\n",
       "\\item 1\n",
       "\\item 1\n",
       "\\item -1\n",
       "\\item 1\n",
       "\\item 1\n",
       "\\item -1\n",
       "\\item 1\n",
       "\\item -1\n",
       "\\item 1\n",
       "\\item -1\n",
       "\\item 1\n",
       "\\item -1\n",
       "\\item -1\n",
       "\\item -1\n",
       "\\item 1\n",
       "\\item -1\n",
       "\\item 1\n",
       "\\item -1\n",
       "\\item -1\n",
       "\\item -1\n",
       "\\item -1\n",
       "\\item 1\n",
       "\\item -1\n",
       "\\item 1\n",
       "\\item -1\n",
       "\\item 1\n",
       "\\item -1\n",
       "\\item 1\n",
       "\\item -1\n",
       "\\item <NA>\n",
       "\\end{enumerate*}\n"
      ],
      "text/markdown": [
       "1. -1\n",
       "2. -1\n",
       "3. 1\n",
       "4. -1\n",
       "5. 1\n",
       "6. -1\n",
       "7. -1\n",
       "8. -1\n",
       "9. 1\n",
       "10. -1\n",
       "11. 1\n",
       "12. -1\n",
       "13. 1\n",
       "14. 1\n",
       "15. -1\n",
       "16. 1\n",
       "17. 1\n",
       "18. 1\n",
       "19. -1\n",
       "20. -1\n",
       "21. 1\n",
       "22. -1\n",
       "23. -1\n",
       "24. 1\n",
       "25. -1\n",
       "26. 1\n",
       "27. -1\n",
       "28. 1\n",
       "29. 1\n",
       "30. -1\n",
       "31. 1\n",
       "32. 1\n",
       "33. -1\n",
       "34. -1\n",
       "35. -1\n",
       "36. 1\n",
       "37. -1\n",
       "38. 1\n",
       "39. -1\n",
       "40. 1\n",
       "41. 1\n",
       "42. -1\n",
       "43. 1\n",
       "44. 1\n",
       "45. -1\n",
       "46. -1\n",
       "47. 1\n",
       "48. 1\n",
       "49. -1\n",
       "50. -1\n",
       "51. 1\n",
       "52. 1\n",
       "53. 1\n",
       "54. -1\n",
       "55. -1\n",
       "56. 1\n",
       "57. -1\n",
       "58. 1\n",
       "59. -1\n",
       "60. -1\n",
       "61. 1\n",
       "62. 1\n",
       "63. -1\n",
       "64. 1\n",
       "65. -1\n",
       "66. -1\n",
       "67. -1\n",
       "68. 1\n",
       "69. -1\n",
       "70. 1\n",
       "71. 1\n",
       "72. -1\n",
       "73. 1\n",
       "74. -1\n",
       "75. -1\n",
       "76. 1\n",
       "77. 1\n",
       "78. -1\n",
       "79. -1\n",
       "80. -1\n",
       "81. 1\n",
       "82. 1\n",
       "83. -1\n",
       "84. 1\n",
       "85. 1\n",
       "86. -1\n",
       "87. 1\n",
       "88. -1\n",
       "89. 1\n",
       "90. -1\n",
       "91. 1\n",
       "92. -1\n",
       "93. -1\n",
       "94. -1\n",
       "95. 1\n",
       "96. -1\n",
       "97. 1\n",
       "98. -1\n",
       "99. -1\n",
       "100. -1\n",
       "101. -1\n",
       "102. 1\n",
       "103. -1\n",
       "104. 1\n",
       "105. -1\n",
       "106. 1\n",
       "107. -1\n",
       "108. 1\n",
       "109. -1\n",
       "110. &lt;NA&gt;\n",
       "\n",
       "\n"
      ],
      "text/plain": [
       "  [1] -1 -1  1 -1  1 -1 -1 -1  1 -1  1 -1  1  1 -1  1  1  1 -1 -1  1 -1 -1  1 -1\n",
       " [26]  1 -1  1  1 -1  1  1 -1 -1 -1  1 -1  1 -1  1  1 -1  1  1 -1 -1  1  1 -1 -1\n",
       " [51]  1  1  1 -1 -1  1 -1  1 -1 -1  1  1 -1  1 -1 -1 -1  1 -1  1  1 -1  1 -1 -1\n",
       " [76]  1  1 -1 -1 -1  1  1 -1  1  1 -1  1 -1  1 -1  1 -1 -1 -1  1 -1  1 -1 -1 -1\n",
       "[101] -1  1 -1  1 -1  1 -1  1 -1 NA"
      ]
     },
     "metadata": {},
     "output_type": "display_data"
    }
   ],
   "source": [
    "rachas"
   ]
  },
  {
   "cell_type": "markdown",
   "id": "5b5d0ba2",
   "metadata": {},
   "source": [
    "**Contar con numero positivo**"
   ]
  },
  {
   "cell_type": "code",
   "execution_count": 6,
   "id": "bb55afd1",
   "metadata": {},
   "outputs": [],
   "source": [
    "n1<-length(rachas[rachas[]>0])"
   ]
  },
  {
   "cell_type": "markdown",
   "id": "17bc27e6",
   "metadata": {},
   "source": [
    "**Contar numeros negativos**"
   ]
  },
  {
   "cell_type": "code",
   "execution_count": 7,
   "id": "6f21ded9",
   "metadata": {},
   "outputs": [],
   "source": [
    "n2<-length(rachas[rachas[]<0])"
   ]
  },
  {
   "cell_type": "code",
   "execution_count": 8,
   "id": "31a093e0",
   "metadata": {},
   "outputs": [],
   "source": [
    "m=n1+n2"
   ]
  },
  {
   "cell_type": "markdown",
   "id": "d12b1bae",
   "metadata": {},
   "source": [
    "**Calculo de R**"
   ]
  },
  {
   "cell_type": "code",
   "execution_count": 9,
   "id": "53551b72",
   "metadata": {},
   "outputs": [],
   "source": [
    "R=1"
   ]
  },
  {
   "cell_type": "code",
   "execution_count": 10,
   "id": "0d0bef67",
   "metadata": {},
   "outputs": [],
   "source": [
    "for(i in (k-2)){\n",
    "    if(sign(rachas[i])!=sign(rachas[i+1]))\n",
    "        R=R+1\n",
    "}"
   ]
  },
  {
   "cell_type": "code",
   "execution_count": 11,
   "id": "d4614e30",
   "metadata": {},
   "outputs": [
    {
     "data": {
      "text/html": [
       "2"
      ],
      "text/latex": [
       "2"
      ],
      "text/markdown": [
       "2"
      ],
      "text/plain": [
       "[1] 2"
      ]
     },
     "metadata": {},
     "output_type": "display_data"
    }
   ],
   "source": [
    "R"
   ]
  },
  {
   "cell_type": "markdown",
   "id": "e22ab171",
   "metadata": {},
   "source": [
    "**Cálculo del estadistico Z**"
   ]
  },
  {
   "cell_type": "code",
   "execution_count": 12,
   "id": "50326527",
   "metadata": {},
   "outputs": [],
   "source": [
    "Z<-(R+0.5-(1+(2*n1*n2/m)))/sqrt((2*n1*n2*(2*n1*n2-m)/(m^2*(m-1))))"
   ]
  },
  {
   "cell_type": "code",
   "execution_count": 13,
   "id": "caa1fb01",
   "metadata": {},
   "outputs": [
    {
     "data": {
      "text/html": [
       "-10.2970565544102"
      ],
      "text/latex": [
       "-10.2970565544102"
      ],
      "text/markdown": [
       "-10.2970565544102"
      ],
      "text/plain": [
       "[1] -10.29706"
      ]
     },
     "metadata": {},
     "output_type": "display_data"
    }
   ],
   "source": [
    "Z"
   ]
  },
  {
   "cell_type": "code",
   "execution_count": 14,
   "id": "6b9a3dfc",
   "metadata": {},
   "outputs": [],
   "source": [
    "if(Z>0){\n",
    "    pvalue<-2*pnorm(Z, lower.tail=FALSE)\n",
    "} else{\n",
    "    pvalue<-2*pnorm(Z, lower.tail=TRUE)\n",
    "}"
   ]
  },
  {
   "cell_type": "code",
   "execution_count": 15,
   "id": "49bb2e85",
   "metadata": {},
   "outputs": [
    {
     "data": {
      "text/html": [
       "7.26502959300331e-25"
      ],
      "text/latex": [
       "7.26502959300331e-25"
      ],
      "text/markdown": [
       "7.26502959300331e-25"
      ],
      "text/plain": [
       "[1] 7.26503e-25"
      ]
     },
     "metadata": {},
     "output_type": "display_data"
    }
   ],
   "source": [
    "pvalue"
   ]
  },
  {
   "cell_type": "markdown",
   "id": "1db12904",
   "metadata": {},
   "source": [
    "**Usando el valor de 0.05**"
   ]
  },
  {
   "cell_type": "code",
   "execution_count": 16,
   "id": "bae49934",
   "metadata": {},
   "outputs": [
    {
     "name": "stdout",
     "output_type": "stream",
     "text": [
      "[1] \"Se rechaza H0\"\n"
     ]
    }
   ],
   "source": [
    "if(pvalue<0.05){\n",
    "    print(\"Se rechaza H0\")\n",
    "}else{\n",
    "    print(\"No se rechaza H0\")\n",
    "}"
   ]
  },
  {
   "cell_type": "markdown",
   "id": "58af4f1a",
   "metadata": {},
   "source": [
    "*Dado que el p-valor es menor que alfa, se rechaza H0, por lo que las observaciones no son aleatorias."
   ]
  }
 ],
 "metadata": {
  "kernelspec": {
   "display_name": "R",
   "language": "R",
   "name": "ir"
  },
  "language_info": {
   "codemirror_mode": "r",
   "file_extension": ".r",
   "mimetype": "text/x-r-source",
   "name": "R",
   "pygments_lexer": "r",
   "version": "3.6.1"
  }
 },
 "nbformat": 4,
 "nbformat_minor": 5
}
