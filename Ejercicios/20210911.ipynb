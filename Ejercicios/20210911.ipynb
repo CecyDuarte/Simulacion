{
 "cells": [
  {
   "cell_type": "markdown",
   "id": "5dc337e6",
   "metadata": {},
   "source": [
    "## Generación de un Proceso de Poisson"
   ]
  },
  {
   "cell_type": "markdown",
   "id": "f36a52e7",
   "metadata": {},
   "source": [
    "* Conteo de sucesos a lo largo del tiempo."
   ]
  },
  {
   "cell_type": "markdown",
   "id": "9b62c240",
   "metadata": {},
   "source": [
    "### Procesos de Poisson homogéneos"
   ]
  },
  {
   "cell_type": "markdown",
   "id": "9cbd7f7e",
   "metadata": {},
   "source": [
    "* Generación de variables aleatorias exponenciales independientes, donde se generen los tiempos de llegada. Donde se generan n numeros de distribución U (0,1), y Xi=-1/lambda(log(U)), donde Xi, es el tiempo entre (i-1) e i"
   ]
  },
  {
   "cell_type": "markdown",
   "id": "23691f0a",
   "metadata": {},
   "source": [
    "Donde:\n",
    "* T es el instante\n",
    "* I tiempos de evento en orden creciente"
   ]
  },
  {
   "cell_type": "code",
   "execution_count": 1,
   "id": "1db5fab5",
   "metadata": {},
   "outputs": [],
   "source": [
    "Poisshom<-function(T, lambda){\n",
    " #Paso 1\n",
    " S<-vector()\n",
    " t=0\n",
    " I=0\n",
    " repeat{\n",
    "     #Paso 2\n",
    "     u<-runif(1)\n",
    "     #Paso 3\n",
    "     t<-t-(1/lambda)*log(u)\n",
    "     if(t>T) break\n",
    "     #Paso 4\n",
    "     else{\n",
    "         I<-I+1\n",
    "         S[I]<-t\n",
    "     }\n",
    "     #Paso 5\n",
    " }\n",
    "    return(S)\n",
    "}"
   ]
  },
  {
   "cell_type": "code",
   "execution_count": 2,
   "id": "8e0916ab",
   "metadata": {},
   "outputs": [
    {
     "data": {
      "text/html": [
       "<ol class=list-inline>\n",
       "\t<li>0.738776326353541</li>\n",
       "\t<li>0.758451588498386</li>\n",
       "\t<li>2.62164576865634</li>\n",
       "\t<li>3.09106847488282</li>\n",
       "\t<li>3.21896246210437</li>\n",
       "\t<li>3.89391392621768</li>\n",
       "\t<li>4.08430208102219</li>\n",
       "\t<li>5.33439741719501</li>\n",
       "\t<li>5.33522165694592</li>\n",
       "\t<li>5.61773502261301</li>\n",
       "\t<li>6.15960888069109</li>\n",
       "\t<li>7.16097396184395</li>\n",
       "\t<li>7.445977096233</li>\n",
       "\t<li>7.93283887246107</li>\n",
       "\t<li>8.16282409751821</li>\n",
       "\t<li>8.85903308949968</li>\n",
       "\t<li>9.83986695113067</li>\n",
       "\t<li>10.3491023183876</li>\n",
       "\t<li>11.1368840770135</li>\n",
       "\t<li>11.191665141982</li>\n",
       "\t<li>11.7518930892551</li>\n",
       "\t<li>11.8999031475288</li>\n",
       "\t<li>12.1179696503385</li>\n",
       "\t<li>12.2405836807081</li>\n",
       "\t<li>12.4676129866436</li>\n",
       "\t<li>13.4634101027146</li>\n",
       "\t<li>13.5453438006704</li>\n",
       "\t<li>14.8135456957164</li>\n",
       "</ol>\n"
      ],
      "text/latex": [
       "\\begin{enumerate*}\n",
       "\\item 0.738776326353541\n",
       "\\item 0.758451588498386\n",
       "\\item 2.62164576865634\n",
       "\\item 3.09106847488282\n",
       "\\item 3.21896246210437\n",
       "\\item 3.89391392621768\n",
       "\\item 4.08430208102219\n",
       "\\item 5.33439741719501\n",
       "\\item 5.33522165694592\n",
       "\\item 5.61773502261301\n",
       "\\item 6.15960888069109\n",
       "\\item 7.16097396184395\n",
       "\\item 7.445977096233\n",
       "\\item 7.93283887246107\n",
       "\\item 8.16282409751821\n",
       "\\item 8.85903308949968\n",
       "\\item 9.83986695113067\n",
       "\\item 10.3491023183876\n",
       "\\item 11.1368840770135\n",
       "\\item 11.191665141982\n",
       "\\item 11.7518930892551\n",
       "\\item 11.8999031475288\n",
       "\\item 12.1179696503385\n",
       "\\item 12.2405836807081\n",
       "\\item 12.4676129866436\n",
       "\\item 13.4634101027146\n",
       "\\item 13.5453438006704\n",
       "\\item 14.8135456957164\n",
       "\\end{enumerate*}\n"
      ],
      "text/markdown": [
       "1. 0.738776326353541\n",
       "2. 0.758451588498386\n",
       "3. 2.62164576865634\n",
       "4. 3.09106847488282\n",
       "5. 3.21896246210437\n",
       "6. 3.89391392621768\n",
       "7. 4.08430208102219\n",
       "8. 5.33439741719501\n",
       "9. 5.33522165694592\n",
       "10. 5.61773502261301\n",
       "11. 6.15960888069109\n",
       "12. 7.16097396184395\n",
       "13. 7.445977096233\n",
       "14. 7.93283887246107\n",
       "15. 8.16282409751821\n",
       "16. 8.85903308949968\n",
       "17. 9.83986695113067\n",
       "18. 10.3491023183876\n",
       "19. 11.1368840770135\n",
       "20. 11.191665141982\n",
       "21. 11.7518930892551\n",
       "22. 11.8999031475288\n",
       "23. 12.1179696503385\n",
       "24. 12.2405836807081\n",
       "25. 12.4676129866436\n",
       "26. 13.4634101027146\n",
       "27. 13.5453438006704\n",
       "28. 14.8135456957164\n",
       "\n",
       "\n"
      ],
      "text/plain": [
       " [1]  0.7387763  0.7584516  2.6216458  3.0910685  3.2189625  3.8939139\n",
       " [7]  4.0843021  5.3343974  5.3352217  5.6177350  6.1596089  7.1609740\n",
       "[13]  7.4459771  7.9328389  8.1628241  8.8590331  9.8398670 10.3491023\n",
       "[19] 11.1368841 11.1916651 11.7518931 11.8999031 12.1179697 12.2405837\n",
       "[25] 12.4676130 13.4634101 13.5453438 14.8135457"
      ]
     },
     "metadata": {},
     "output_type": "display_data"
    },
    {
     "data": {
      "text/html": [
       "28"
      ],
      "text/latex": [
       "28"
      ],
      "text/markdown": [
       "28"
      ],
      "text/plain": [
       "[1] 28"
      ]
     },
     "metadata": {},
     "output_type": "display_data"
    }
   ],
   "source": [
    "P<-Poisshom(15,2)\n",
    "P\n",
    "length(P)"
   ]
  },
  {
   "cell_type": "code",
   "execution_count": null,
   "id": "0af53e1a",
   "metadata": {},
   "outputs": [],
   "source": [
    "# Aqui existe la misma probabilidad"
   ]
  },
  {
   "cell_type": "markdown",
   "id": "15bdb607",
   "metadata": {},
   "source": [
    "### Procesos de Poisson no homogéneos"
   ]
  },
  {
   "cell_type": "code",
   "execution_count": 4,
   "id": "0483d5d2",
   "metadata": {},
   "outputs": [],
   "source": [
    "# Aqui no tienen la misma probabilidad, son de incrementos independientes"
   ]
  },
  {
   "cell_type": "code",
   "execution_count": 1,
   "id": "0446291a",
   "metadata": {},
   "outputs": [
    {
     "data": {
      "image/png": "[encoded data removed]",
      "text/plain": [
       "plot without title"
      ]
     },
     "metadata": {},
     "output_type": "display_data"
    }
   ],
   "source": [
    "# Ejemplo NHPP\n",
    "lambda<-function(x)(5+5*x)*I(x<3)+20*I(x>=3&x<5)+(20-2*(x-5))*I(x>=5&x<=9)\n",
    "curve(lambda(x),xlim=c(0,9),ylab=\"lambda(x)\", col=\"red\", lwd=2)\n",
    "# Se supone que grafica la función"
   ]
  },
  {
   "cell_type": "code",
   "execution_count": 2,
   "id": "0adcf827",
   "metadata": {},
   "outputs": [],
   "source": [
    "# Algoritmo\n",
    "S<-vector()\n",
    "u1<-vector()\n",
    "u2<-vector()\n",
    "\n",
    "proc.nhpp<-function(T1){\n",
    "    t<-0; I<-0; n<-1000; lam<-20\n",
    "    for(i in 1:n){\n",
    "        u1[i]<-runif(1)\n",
    "        t<-t-log(u1[i])/lam\n",
    "        if(t>T1){\n",
    "         print(i)\n",
    "         break\n",
    "        }\n",
    "        if(t<=T1){\n",
    "            u2[i]<-runif(1)\n",
    "        }\n",
    "        if(u2[i]<=lambda(t)/lam){\n",
    "            I<-I+1\n",
    "            S[I]<-t\n",
    "        }\n",
    "    }\n",
    "    print(\"S\")\n",
    "    print(S)\n",
    "    print(\"Tasa de aceptación\")\n",
    "    print(length(S)/i)\n",
    "    print(\"Número medio de realizaciones\")\n",
    "    print(i/length(S))\n",
    "    \n",
    "    hist(S)\n",
    "    curve(lambda(x), xlim=c(0,9), col=\"red\", lwd=2, add=TRUE)\n",
    "}"
   ]
  },
  {
   "cell_type": "code",
   "execution_count": 3,
   "id": "4b3d93a2",
   "metadata": {},
   "outputs": [
    {
     "name": "stdout",
     "output_type": "stream",
     "text": [
      "[1] 176\n",
      "[1] \"S\"\n",
      "  [1] 0.1283489 0.3491277 0.6068326 0.6543956 0.7817613 0.8290425 0.9371762\n",
      "  [8] 0.9632271 1.0699997 1.3418412 1.3507189 1.3559762 1.5180302 1.5753556\n",
      " [15] 1.6027891 1.6766118 1.6924616 1.9288121 1.9972295 2.0908905 2.1160878\n",
      " [22] 2.1187028 2.1328518 2.3308363 2.3327760 2.4180740 2.5580146 2.5893685\n",
      " [29] 2.6276953 2.6962575 2.7448005 2.7487231 2.7730176 2.8084999 2.8543626\n",
      " [36] 2.8615561 2.8700817 2.8988836 2.8998982 2.9167656 3.0098768 3.0715122\n",
      " [43] 3.2062228 3.3134415 3.3858180 3.4122532 3.4542276 3.4753228 3.5341116\n",
      " [50] 3.5367308 3.6096430 3.6127769 3.6197215 3.6677060 3.7257898 3.7516614\n",
      " [57] 3.8673944 3.9554090 3.9764292 3.9783894 3.9814000 4.0559734 4.0821743\n",
      " [64] 4.2330572 4.2567020 4.3367532 4.3530495 4.3550781 4.4122359 4.4365268\n",
      " [71] 4.4863554 4.5494142 4.6184808 4.7658447 4.7904065 4.8032060 4.8418703\n",
      " [78] 4.8688861 4.9118315 5.0558779 5.0936050 5.0987149 5.1210635 5.1391774\n",
      " [85] 5.1596999 5.1951922 5.3014617 5.3392242 5.3597909 5.3915503 5.4167374\n",
      " [92] 5.4771646 5.4997084 5.5881007 5.6431521 5.6801943 5.7864791 5.9078398\n",
      " [99] 6.0508470 6.0924425 6.0979425 6.1079944 6.1235326 6.3749082 6.3750447\n",
      "[106] 6.4564033 6.4628000 6.4660819 6.6736430 6.6736465 6.7473955 6.7530765\n",
      "[113] 6.8619881 6.9269848 7.0311543 7.0629124 7.1333445 7.3127423 7.3806505\n",
      "[120] 7.4028390 7.4448669 7.4737424 7.4987782 7.5230799 7.5510090 7.6347702\n",
      "[127] 7.6864484 7.8098989 7.8565119 7.9398673 8.2638365 8.4893462 8.6149712\n",
      "[134] 8.7169772 8.7960691 8.9044871 8.9081472 8.9228283 8.9349066\n",
      "[1] \"Tasa de aceptación\"\n",
      "[1] 0.7897727\n",
      "[1] \"Número medio de realizaciones\"\n",
      "[1] 1.266187\n"
     ]
    },
    {
     "data": {
      "text/plain": [
       "$x\n",
       "  [1] 0.00 0.09 0.18 0.27 0.36 0.45 0.54 0.63 0.72 0.81 0.90 0.99 1.08 1.17 1.26\n",
       " [16] 1.35 1.44 1.53 1.62 1.71 1.80 1.89 1.98 2.07 2.16 2.25 2.34 2.43 2.52 2.61\n",
       " [31] 2.70 2.79 2.88 2.97 3.06 3.15 3.24 3.33 3.42 3.51 3.60 3.69 3.78 3.87 3.96\n",
       " [46] 4.05 4.14 4.23 4.32 4.41 4.50 4.59 4.68 4.77 4.86 4.95 5.04 5.13 5.22 5.31\n",
       " [61] 5.40 5.49 5.58 5.67 5.76 5.85 5.94 6.03 6.12 6.21 6.30 6.39 6.48 6.57 6.66\n",
       " [76] 6.75 6.84 6.93 7.02 7.11 7.20 7.29 7.38 7.47 7.56 7.65 7.74 7.83 7.92 8.01\n",
       " [91] 8.10 8.19 8.28 8.37 8.46 8.55 8.64 8.73 8.82 8.91 9.00\n",
       "\n",
       "$y\n",
       "  [1]  5.00  5.45  5.90  6.35  6.80  7.25  7.70  8.15  8.60  9.05  9.50  9.95\n",
       " [13] 10.40 10.85 11.30 11.75 12.20 12.65 13.10 13.55 14.00 14.45 14.90 15.35\n",
       " [25] 15.80 16.25 16.70 17.15 17.60 18.05 18.50 18.95 19.40 19.85 20.00 20.00\n",
       " [37] 20.00 20.00 20.00 20.00 20.00 20.00 20.00 20.00 20.00 20.00 20.00 20.00\n",
       " [49] 20.00 20.00 20.00 20.00 20.00 20.00 20.00 20.00 19.92 19.74 19.56 19.38\n",
       " [61] 19.20 19.02 18.84 18.66 18.48 18.30 18.12 17.94 17.76 17.58 17.40 17.22\n",
       " [73] 17.04 16.86 16.68 16.50 16.32 16.14 15.96 15.78 15.60 15.42 15.24 15.06\n",
       " [85] 14.88 14.70 14.52 14.34 14.16 13.98 13.80 13.62 13.44 13.26 13.08 12.90\n",
       " [97] 12.72 12.54 12.36 12.18 12.00\n"
      ]
     },
     "metadata": {},
     "output_type": "display_data"
    },
    {
     "data": {
      "image/png": "[encoded data removed]",
      "text/plain": [
       "Plot with title \"Histogram of S\""
      ]
     },
     "metadata": {},
     "output_type": "display_data"
    }
   ],
   "source": [
    "Prueba<-proc.nhpp(T1=9)\n",
    "Prueba"
   ]
  },
  {
   "cell_type": "code",
   "execution_count": null,
   "id": "8c4356ea",
   "metadata": {},
   "outputs": [],
   "source": []
  }
 ],
 "metadata": {
  "kernelspec": {
   "display_name": "R",
   "language": "R",
   "name": "ir"
  },
  "language_info": {
   "codemirror_mode": "r",
   "file_extension": ".r",
   "mimetype": "text/x-r-source",
   "name": "R",
   "pygments_lexer": "r",
   "version": "3.6.1"
  }
 },
 "nbformat": 4,
 "nbformat_minor": 5
}
