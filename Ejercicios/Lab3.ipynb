{
 "cells": [
  {
   "cell_type": "markdown",
   "id": "c05f496d",
   "metadata": {},
   "source": [
    "# Laboratorio 3."
   ]
  },
  {
   "cell_type": "markdown",
   "id": "ab1119a8",
   "metadata": {},
   "source": [
    "Simulación.\n",
    "\n",
    "**Grupo:** 001.\n",
    "\n",
    "**Prof.** Lic. Blance Elida Serna Rodríguez.\n",
    "\n",
    "**Equipo dinamita.**\n",
    "\n",
    "*Integrantes:*\n",
    "\n",
    "* Angel Emmanuel Hernández Galván.\n",
    "* Alma Cecilia Villarreal Duarte."
   ]
  },
  {
   "cell_type": "markdown",
   "id": "1c41a267",
   "metadata": {},
   "source": [
    "## Ejercicio 1."
   ]
  },
  {
   "cell_type": "markdown",
   "id": "139c5271",
   "metadata": {},
   "source": [
    "$PD. Var(\\frac{x+y}{2}) =\\frac{1}{4}[Var(x)+Var(y)+2Cov(x,y)]$"
   ]
  },
  {
   "cell_type": "markdown",
   "id": "6cd77beb",
   "metadata": {},
   "source": [
    "$Var(\\frac{x+y}{2}) =\\frac{1}{4}[Var(x)+Var(x)+2Cov(x,y)]$\n",
    "\n",
    "$Var(\\frac{x+y}{2}) =\\frac{1}{4}[2[Var(x)+Cov(x,y)]]$\n",
    "\n",
    "$Var(\\frac{x+y}{2}) =\\frac{1}{2}[Var(x)+Cov(x,y)]$\n",
    "\n",
    "Dado que $Cov(x,y)\\leq \\sqrt{Var(x)} \\sqrt{Var(y)}=Var(x)$\n",
    "\n",
    "La varianza de dos números aleatorios es $\\frac{1}{2}Var({x})$\n",
    "\n",
    "Usando 2 variables antitéticas para generar x & y $\\Rightarrow Cov(x,y)\\leq 0$. Entonces:\n",
    "\n",
    "$Var(\\frac{x+y}{2}) =\\frac{1}{2}[Var(x)+Cov(x,y)]\\leq\\frac{1}{2}[Var(x)]$\n",
    "\n",
    "$ \\blacksquare$"
   ]
  },
  {
   "cell_type": "markdown",
   "id": "8ba722bc",
   "metadata": {},
   "source": [
    "## Ejercicio 2."
   ]
  },
  {
   "cell_type": "markdown",
   "id": "4bd2618d",
   "metadata": {},
   "source": [
    "$\\mu=E(N)=e$\n",
    "\n",
    "Para la aproximación de E(N)=e con un IC del 95%, tenemos que:\n",
    "\n",
    "$ \\bar{x}\\pm$ $Z_{\\frac{\\alpha}{2}}$ $\\frac{\\sigma}{\\sqrt{n}}$\n"
   ]
  },
  {
   "cell_type": "code",
   "execution_count": 4,
   "id": "3007390d",
   "metadata": {},
   "outputs": [
    {
     "name": "stdout",
     "output_type": "stream",
     "text": [
      "[1] \"Valor estimado de e mediante 1000 ejecuciones\"\n"
     ]
    },
    {
     "data": {
      "text/html": [
       "2.694"
      ],
      "text/latex": [
       "2.694"
      ],
      "text/markdown": [
       "2.694"
      ],
      "text/plain": [
       "[1] 2.694"
      ]
     },
     "metadata": {},
     "output_type": "display_data"
    },
    {
     "name": "stdout",
     "output_type": "stream",
     "text": [
      "[1] \"Varianza de la estimación\"\n"
     ]
    },
    {
     "data": {
      "text/html": [
       "0.721085085085085"
      ],
      "text/latex": [
       "0.721085085085085"
      ],
      "text/markdown": [
       "0.721085085085085"
      ],
      "text/plain": [
       "[1] 0.7210851"
      ]
     },
     "metadata": {},
     "output_type": "display_data"
    },
    {
     "name": "stdout",
     "output_type": "stream",
     "text": [
      "[1] \"Intervalo de confianza inferior\"\n"
     ]
    },
    {
     "data": {
      "text/html": [
       "2.64136903325445"
      ],
      "text/latex": [
       "2.64136903325445"
      ],
      "text/markdown": [
       "2.64136903325445"
      ],
      "text/plain": [
       "[1] 2.641369"
      ]
     },
     "metadata": {},
     "output_type": "display_data"
    },
    {
     "name": "stdout",
     "output_type": "stream",
     "text": [
      "[1] \"Intervalo de confianza superior\"\n"
     ]
    },
    {
     "data": {
      "text/html": [
       "2.74663096674555"
      ],
      "text/latex": [
       "2.74663096674555"
      ],
      "text/markdown": [
       "2.74663096674555"
      ],
      "text/plain": [
       "[1] 2.746631"
      ]
     },
     "metadata": {},
     "output_type": "display_data"
    }
   ],
   "source": [
    "SimEuler <- function(n){\n",
    "    N <- vector()\n",
    "    S <- vector()\n",
    "    for(i in 1:n){\n",
    "        suma <- 0\n",
    "        flag <- 0\n",
    "        repeat{\n",
    "            u <- runif(1)\n",
    "            suma <- suma + u\n",
    "            flag <- flag + 1\n",
    "            if(suma > 1){\n",
    "                break\n",
    "            }\n",
    "        }\n",
    "        N[i] <- flag\n",
    "        S[i] <- suma - u\n",
    "    }\n",
    "    \n",
    "    return(N)\n",
    "}\n",
    "\n",
    "N <- SimEuler(1000)\n",
    "print(\"Valor estimado de e mediante 1000 ejecuciones\")\n",
    "mean(N)\n",
    "print(\"Varianza de la estimación\")\n",
    "var(N)\n",
    "des <- var(N)^(1/2)\n",
    "MM <- (des / (1000^(1/2))) * qnorm(0.975)\n",
    "print(\"Intervalo de confianza inferior\")\n",
    "mean(N) - MM\n",
    "print(\"Intervalo de confianza superior\")\n",
    "mean(N) + MM"
   ]
  },
  {
   "cell_type": "markdown",
   "id": "f59074cd",
   "metadata": {},
   "source": [
    "#### Estimación de intervalo mediante función de R"
   ]
  },
  {
   "cell_type": "code",
   "execution_count": 5,
   "id": "2fe2bd32",
   "metadata": {},
   "outputs": [
    {
     "data": {
      "text/html": [
       "<style>\n",
       ".list-inline {list-style: none; margin:0; padding: 0}\n",
       ".list-inline>li {display: inline-block}\n",
       ".list-inline>li:not(:last-child)::after {content: \"\\00b7\"; padding: 0 .5ex}\n",
       "</style>\n",
       "<ol class=list-inline><li>2.64130519081014</li><li>2.74669480918985</li></ol>\n"
      ],
      "text/latex": [
       "\\begin{enumerate*}\n",
       "\\item 2.64130519081014\n",
       "\\item 2.74669480918985\n",
       "\\end{enumerate*}\n"
      ],
      "text/markdown": [
       "1. 2.64130519081014\n",
       "2. 2.74669480918985\n",
       "\n",
       "\n"
      ],
      "text/plain": [
       "[1] 2.641305 2.746695\n",
       "attr(,\"conf.level\")\n",
       "[1] 0.95"
      ]
     },
     "metadata": {},
     "output_type": "display_data"
    }
   ],
   "source": [
    "t.test(x=N, conf.level=0.95)$conf.int"
   ]
  },
  {
   "cell_type": "code",
   "execution_count": null,
   "id": "8f741fea",
   "metadata": {},
   "outputs": [],
   "source": []
  }
 ],
 "metadata": {
  "kernelspec": {
   "display_name": "R",
   "language": "R",
   "name": "ir"
  },
  "language_info": {
   "codemirror_mode": "r",
   "file_extension": ".r",
   "mimetype": "text/x-r-source",
   "name": "R",
   "pygments_lexer": "r",
   "version": "3.6.1"
  }
 },
 "nbformat": 4,
 "nbformat_minor": 5
}
