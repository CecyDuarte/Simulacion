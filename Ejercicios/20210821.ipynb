{
 "cells": [
  {
   "cell_type": "markdown",
   "id": "e3c25807",
   "metadata": {},
   "source": [
    "# Simulación de la muestra"
   ]
  },
  {
   "cell_type": "code",
   "execution_count": 1,
   "id": "acedf6d0",
   "metadata": {},
   "outputs": [],
   "source": [
    "set.seed(124)"
   ]
  },
  {
   "cell_type": "code",
   "execution_count": 2,
   "id": "35b59960",
   "metadata": {},
   "outputs": [],
   "source": [
    "n<-1000"
   ]
  },
  {
   "cell_type": "code",
   "execution_count": 3,
   "id": "9ff93c99",
   "metadata": {},
   "outputs": [],
   "source": [
    "munif<-c(0.14, 0.16, 0.28, 0.37, 0.42, 0.55, 0.83, 0.87, 0.92, 0.99)"
   ]
  },
  {
   "cell_type": "code",
   "execution_count": 4,
   "id": "d0f8bfbb",
   "metadata": {},
   "outputs": [
    {
     "data": {
      "image/png": "[encoded data removed]",
      "text/plain": [
       "Plot with title \"Histogram of munif\""
      ]
     },
     "metadata": {},
     "output_type": "display_data"
    }
   ],
   "source": [
    "hist(munif, breaks=6)"
   ]
  },
  {
   "cell_type": "code",
   "execution_count": 5,
   "id": "2e8c790b",
   "metadata": {},
   "outputs": [],
   "source": [
    "k<-10"
   ]
  },
  {
   "cell_type": "code",
   "execution_count": 6,
   "id": "d259149c",
   "metadata": {},
   "outputs": [],
   "source": [
    "clase<-seq(0,1,by=1/k)"
   ]
  },
  {
   "cell_type": "markdown",
   "id": "76011e63",
   "metadata": {},
   "source": [
    "*Asocia cada observación a cada clase*"
   ]
  },
  {
   "cell_type": "code",
   "execution_count": 7,
   "id": "a93c20a6",
   "metadata": {},
   "outputs": [],
   "source": [
    "munifc<-cut(munif, breaks=clase)"
   ]
  },
  {
   "cell_type": "code",
   "execution_count": 8,
   "id": "cf150a3d",
   "metadata": {},
   "outputs": [
    {
     "data": {
      "text/html": [
       "<ol class=list-inline>\n",
       "\t<li>0.0830154397990555</li>\n",
       "\t<li>0.408794660819694</li>\n",
       "\t<li>0.515284994151443</li>\n",
       "\t<li>0.39688234962523</li>\n",
       "\t<li>0.222722708247602</li>\n",
       "\t<li>0.292349642841145</li>\n",
       "\t<li>0.584065895760432</li>\n",
       "\t<li>0.490911490749568</li>\n",
       "\t<li>0.92299912404269</li>\n",
       "\t<li>0.279794845962897</li>\n",
       "\t<li>0.771706872852519</li>\n",
       "\t<li>0.856850357726216</li>\n",
       "\t<li>0.75810797419399</li>\n",
       "\t<li>0.850302027305588</li>\n",
       "\t<li>0.409296656260267</li>\n",
       "\t<li>0.0550169858615845</li>\n",
       "\t<li>0.578122953651473</li>\n",
       "\t<li>0.745051861274987</li>\n",
       "\t<li>0.886313536670059</li>\n",
       "\t<li>0.0307887899689376</li>\n",
       "\t<li>0.624885231722146</li>\n",
       "\t<li>0.603537844726816</li>\n",
       "\t<li>0.0772523519117385</li>\n",
       "\t<li>0.413835564861074</li>\n",
       "\t<li>0.342705363640562</li>\n",
       "\t<li>0.202218788210303</li>\n",
       "\t<li>0.840225856285542</li>\n",
       "\t<li>0.266078797634691</li>\n",
       "\t<li>0.831174729857594</li>\n",
       "\t<li>0.384679060662165</li>\n",
       "\t<li>0.82071357825771</li>\n",
       "\t<li>0.307716263458133</li>\n",
       "\t<li>0.439999845111743</li>\n",
       "\t<li>0.865406593307853</li>\n",
       "\t<li>0.110651855589822</li>\n",
       "\t<li>0.96997279766947</li>\n",
       "\t<li>0.192471622023731</li>\n",
       "\t<li>0.93942257319577</li>\n",
       "\t<li>0.14859335264191</li>\n",
       "\t<li>0.317532640416175</li>\n",
       "\t<li>0.134875146206468</li>\n",
       "\t<li>0.825160381849855</li>\n",
       "\t<li>0.671545604243875</li>\n",
       "\t<li>0.24243293213658</li>\n",
       "\t<li>0.418805359862745</li>\n",
       "\t<li>0.327785350615159</li>\n",
       "\t<li>0.953094892669469</li>\n",
       "\t<li>0.248337704921141</li>\n",
       "\t<li>0.447760195937008</li>\n",
       "\t<li>0.149698003195226</li>\n",
       "\t<li>0.420786050381139</li>\n",
       "\t<li>0.836128867231309</li>\n",
       "\t<li>0.521895882440731</li>\n",
       "\t<li>0.217868991428986</li>\n",
       "\t<li>0.247567156795412</li>\n",
       "\t<li>0.366007238160819</li>\n",
       "\t<li>0.233397354139015</li>\n",
       "\t<li>0.74464839999564</li>\n",
       "\t<li>0.194370097946376</li>\n",
       "\t<li>0.562950185500085</li>\n",
       "\t<li>0.485033954959363</li>\n",
       "\t<li>0.444467541994527</li>\n",
       "\t<li>0.0514005268923938</li>\n",
       "\t<li>0.306436726823449</li>\n",
       "\t<li>0.570311237126589</li>\n",
       "\t<li>0.000450939871370792</li>\n",
       "\t<li>0.495013028616086</li>\n",
       "\t<li>0.56526372092776</li>\n",
       "\t<li>0.346673459745944</li>\n",
       "\t<li>0.188402036670595</li>\n",
       "\t<li>0.637416962068528</li>\n",
       "\t<li>0.886158411158249</li>\n",
       "\t<li>0.810236338526011</li>\n",
       "\t<li>0.880748302442953</li>\n",
       "\t<li>0.581078798277304</li>\n",
       "\t<li>0.350614054594189</li>\n",
       "\t<li>0.187436976702884</li>\n",
       "\t<li>0.947683506645262</li>\n",
       "\t<li>0.316604139981791</li>\n",
       "\t<li>0.169512934051454</li>\n",
       "\t<li>0.394449367653579</li>\n",
       "\t<li>0.181665445910767</li>\n",
       "\t<li>0.943614367861301</li>\n",
       "\t<li>0.767091647721827</li>\n",
       "\t<li>0.518703769193962</li>\n",
       "\t<li>0.909238973166794</li>\n",
       "\t<li>0.639265722362325</li>\n",
       "\t<li>0.180329960770905</li>\n",
       "\t<li>0.451695031253621</li>\n",
       "\t<li>0.220342834712937</li>\n",
       "\t<li>0.485604563262314</li>\n",
       "\t<li>0.229682424804196</li>\n",
       "\t<li>0.163260009372607</li>\n",
       "\t<li>0.341123216086999</li>\n",
       "\t<li>0.332049885997549</li>\n",
       "\t<li>0.30239485646598</li>\n",
       "\t<li>0.473098056390882</li>\n",
       "\t<li>0.486112028826028</li>\n",
       "\t<li>0.836924103088677</li>\n",
       "\t<li>0.671386952977628</li>\n",
       "</ol>\n"
      ],
      "text/latex": [
       "\\begin{enumerate*}\n",
       "\\item 0.0830154397990555\n",
       "\\item 0.408794660819694\n",
       "\\item 0.515284994151443\n",
       "\\item 0.39688234962523\n",
       "\\item 0.222722708247602\n",
       "\\item 0.292349642841145\n",
       "\\item 0.584065895760432\n",
       "\\item 0.490911490749568\n",
       "\\item 0.92299912404269\n",
       "\\item 0.279794845962897\n",
       "\\item 0.771706872852519\n",
       "\\item 0.856850357726216\n",
       "\\item 0.75810797419399\n",
       "\\item 0.850302027305588\n",
       "\\item 0.409296656260267\n",
       "\\item 0.0550169858615845\n",
       "\\item 0.578122953651473\n",
       "\\item 0.745051861274987\n",
       "\\item 0.886313536670059\n",
       "\\item 0.0307887899689376\n",
       "\\item 0.624885231722146\n",
       "\\item 0.603537844726816\n",
       "\\item 0.0772523519117385\n",
       "\\item 0.413835564861074\n",
       "\\item 0.342705363640562\n",
       "\\item 0.202218788210303\n",
       "\\item 0.840225856285542\n",
       "\\item 0.266078797634691\n",
       "\\item 0.831174729857594\n",
       "\\item 0.384679060662165\n",
       "\\item 0.82071357825771\n",
       "\\item 0.307716263458133\n",
       "\\item 0.439999845111743\n",
       "\\item 0.865406593307853\n",
       "\\item 0.110651855589822\n",
       "\\item 0.96997279766947\n",
       "\\item 0.192471622023731\n",
       "\\item 0.93942257319577\n",
       "\\item 0.14859335264191\n",
       "\\item 0.317532640416175\n",
       "\\item 0.134875146206468\n",
       "\\item 0.825160381849855\n",
       "\\item 0.671545604243875\n",
       "\\item 0.24243293213658\n",
       "\\item 0.418805359862745\n",
       "\\item 0.327785350615159\n",
       "\\item 0.953094892669469\n",
       "\\item 0.248337704921141\n",
       "\\item 0.447760195937008\n",
       "\\item 0.149698003195226\n",
       "\\item 0.420786050381139\n",
       "\\item 0.836128867231309\n",
       "\\item 0.521895882440731\n",
       "\\item 0.217868991428986\n",
       "\\item 0.247567156795412\n",
       "\\item 0.366007238160819\n",
       "\\item 0.233397354139015\n",
       "\\item 0.74464839999564\n",
       "\\item 0.194370097946376\n",
       "\\item 0.562950185500085\n",
       "\\item 0.485033954959363\n",
       "\\item 0.444467541994527\n",
       "\\item 0.0514005268923938\n",
       "\\item 0.306436726823449\n",
       "\\item 0.570311237126589\n",
       "\\item 0.000450939871370792\n",
       "\\item 0.495013028616086\n",
       "\\item 0.56526372092776\n",
       "\\item 0.346673459745944\n",
       "\\item 0.188402036670595\n",
       "\\item 0.637416962068528\n",
       "\\item 0.886158411158249\n",
       "\\item 0.810236338526011\n",
       "\\item 0.880748302442953\n",
       "\\item 0.581078798277304\n",
       "\\item 0.350614054594189\n",
       "\\item 0.187436976702884\n",
       "\\item 0.947683506645262\n",
       "\\item 0.316604139981791\n",
       "\\item 0.169512934051454\n",
       "\\item 0.394449367653579\n",
       "\\item 0.181665445910767\n",
       "\\item 0.943614367861301\n",
       "\\item 0.767091647721827\n",
       "\\item 0.518703769193962\n",
       "\\item 0.909238973166794\n",
       "\\item 0.639265722362325\n",
       "\\item 0.180329960770905\n",
       "\\item 0.451695031253621\n",
       "\\item 0.220342834712937\n",
       "\\item 0.485604563262314\n",
       "\\item 0.229682424804196\n",
       "\\item 0.163260009372607\n",
       "\\item 0.341123216086999\n",
       "\\item 0.332049885997549\n",
       "\\item 0.30239485646598\n",
       "\\item 0.473098056390882\n",
       "\\item 0.486112028826028\n",
       "\\item 0.836924103088677\n",
       "\\item 0.671386952977628\n",
       "\\end{enumerate*}\n"
      ],
      "text/markdown": [
       "1. 0.0830154397990555\n",
       "2. 0.408794660819694\n",
       "3. 0.515284994151443\n",
       "4. 0.39688234962523\n",
       "5. 0.222722708247602\n",
       "6. 0.292349642841145\n",
       "7. 0.584065895760432\n",
       "8. 0.490911490749568\n",
       "9. 0.92299912404269\n",
       "10. 0.279794845962897\n",
       "11. 0.771706872852519\n",
       "12. 0.856850357726216\n",
       "13. 0.75810797419399\n",
       "14. 0.850302027305588\n",
       "15. 0.409296656260267\n",
       "16. 0.0550169858615845\n",
       "17. 0.578122953651473\n",
       "18. 0.745051861274987\n",
       "19. 0.886313536670059\n",
       "20. 0.0307887899689376\n",
       "21. 0.624885231722146\n",
       "22. 0.603537844726816\n",
       "23. 0.0772523519117385\n",
       "24. 0.413835564861074\n",
       "25. 0.342705363640562\n",
       "26. 0.202218788210303\n",
       "27. 0.840225856285542\n",
       "28. 0.266078797634691\n",
       "29. 0.831174729857594\n",
       "30. 0.384679060662165\n",
       "31. 0.82071357825771\n",
       "32. 0.307716263458133\n",
       "33. 0.439999845111743\n",
       "34. 0.865406593307853\n",
       "35. 0.110651855589822\n",
       "36. 0.96997279766947\n",
       "37. 0.192471622023731\n",
       "38. 0.93942257319577\n",
       "39. 0.14859335264191\n",
       "40. 0.317532640416175\n",
       "41. 0.134875146206468\n",
       "42. 0.825160381849855\n",
       "43. 0.671545604243875\n",
       "44. 0.24243293213658\n",
       "45. 0.418805359862745\n",
       "46. 0.327785350615159\n",
       "47. 0.953094892669469\n",
       "48. 0.248337704921141\n",
       "49. 0.447760195937008\n",
       "50. 0.149698003195226\n",
       "51. 0.420786050381139\n",
       "52. 0.836128867231309\n",
       "53. 0.521895882440731\n",
       "54. 0.217868991428986\n",
       "55. 0.247567156795412\n",
       "56. 0.366007238160819\n",
       "57. 0.233397354139015\n",
       "58. 0.74464839999564\n",
       "59. 0.194370097946376\n",
       "60. 0.562950185500085\n",
       "61. 0.485033954959363\n",
       "62. 0.444467541994527\n",
       "63. 0.0514005268923938\n",
       "64. 0.306436726823449\n",
       "65. 0.570311237126589\n",
       "66. 0.000450939871370792\n",
       "67. 0.495013028616086\n",
       "68. 0.56526372092776\n",
       "69. 0.346673459745944\n",
       "70. 0.188402036670595\n",
       "71. 0.637416962068528\n",
       "72. 0.886158411158249\n",
       "73. 0.810236338526011\n",
       "74. 0.880748302442953\n",
       "75. 0.581078798277304\n",
       "76. 0.350614054594189\n",
       "77. 0.187436976702884\n",
       "78. 0.947683506645262\n",
       "79. 0.316604139981791\n",
       "80. 0.169512934051454\n",
       "81. 0.394449367653579\n",
       "82. 0.181665445910767\n",
       "83. 0.943614367861301\n",
       "84. 0.767091647721827\n",
       "85. 0.518703769193962\n",
       "86. 0.909238973166794\n",
       "87. 0.639265722362325\n",
       "88. 0.180329960770905\n",
       "89. 0.451695031253621\n",
       "90. 0.220342834712937\n",
       "91. 0.485604563262314\n",
       "92. 0.229682424804196\n",
       "93. 0.163260009372607\n",
       "94. 0.341123216086999\n",
       "95. 0.332049885997549\n",
       "96. 0.30239485646598\n",
       "97. 0.473098056390882\n",
       "98. 0.486112028826028\n",
       "99. 0.836924103088677\n",
       "100. 0.671386952977628\n",
       "\n",
       "\n"
      ],
      "text/plain": [
       "  [1] 0.0830154398 0.4087946608 0.5152849942 0.3968823496 0.2227227082\n",
       "  [6] 0.2923496428 0.5840658958 0.4909114907 0.9229991240 0.2797948460\n",
       " [11] 0.7717068729 0.8568503577 0.7581079742 0.8503020273 0.4092966563\n",
       " [16] 0.0550169859 0.5781229537 0.7450518613 0.8863135367 0.0307887900\n",
       " [21] 0.6248852317 0.6035378447 0.0772523519 0.4138355649 0.3427053636\n",
       " [26] 0.2022187882 0.8402258563 0.2660787976 0.8311747299 0.3846790607\n",
       " [31] 0.8207135783 0.3077162635 0.4399998451 0.8654065933 0.1106518556\n",
       " [36] 0.9699727977 0.1924716220 0.9394225732 0.1485933526 0.3175326404\n",
       " [41] 0.1348751462 0.8251603818 0.6715456042 0.2424329321 0.4188053599\n",
       " [46] 0.3277853506 0.9530948927 0.2483377049 0.4477601959 0.1496980032\n",
       " [51] 0.4207860504 0.8361288672 0.5218958824 0.2178689914 0.2475671568\n",
       " [56] 0.3660072382 0.2333973541 0.7446484000 0.1943700979 0.5629501855\n",
       " [61] 0.4850339550 0.4444675420 0.0514005269 0.3064367268 0.5703112371\n",
       " [66] 0.0004509399 0.4950130286 0.5652637209 0.3466734597 0.1884020367\n",
       " [71] 0.6374169621 0.8861584112 0.8102363385 0.8807483024 0.5810787983\n",
       " [76] 0.3506140546 0.1874369767 0.9476835066 0.3166041400 0.1695129341\n",
       " [81] 0.3944493677 0.1816654459 0.9436143679 0.7670916477 0.5187037692\n",
       " [86] 0.9092389732 0.6392657224 0.1803299608 0.4516950313 0.2203428347\n",
       " [91] 0.4856045633 0.2296824248 0.1632600094 0.3411232161 0.3320498860\n",
       " [96] 0.3023948565 0.4730980564 0.4861120288 0.8369241031 0.6713869530"
      ]
     },
     "metadata": {},
     "output_type": "display_data"
    }
   ],
   "source": [
    "munif"
   ]
  },
  {
   "cell_type": "code",
   "execution_count": 9,
   "id": "71075fd1",
   "metadata": {},
   "outputs": [],
   "source": [
    "tunif<-table(munifc)"
   ]
  },
  {
   "cell_type": "code",
   "execution_count": 10,
   "id": "427452d8",
   "metadata": {},
   "outputs": [
    {
     "data": {
      "text/plain": [
       "munifc\n",
       "  (0,0.1] (0.1,0.2] (0.2,0.3] (0.3,0.4] (0.4,0.5] (0.5,0.6] (0.6,0.7] (0.7,0.8] \n",
       "        6        12        12        15        15         9         6         5 \n",
       "(0.8,0.9]   (0.9,1] \n",
       "       13         7 "
      ]
     },
     "metadata": {},
     "output_type": "display_data"
    }
   ],
   "source": [
    "tunif"
   ]
  },
  {
   "cell_type": "markdown",
   "id": "e669a811",
   "metadata": {},
   "source": [
    "**Frecuencias esperadas**"
   ]
  },
  {
   "cell_type": "code",
   "execution_count": 11,
   "id": "ae60148b",
   "metadata": {},
   "outputs": [],
   "source": [
    "frespe=NULL"
   ]
  },
  {
   "cell_type": "code",
   "execution_count": 12,
   "id": "57abcd80",
   "metadata": {},
   "outputs": [],
   "source": [
    "for(i in 1:k){\n",
    "    frespe[i]<- n*(clase[i+1]-clase[i])\n",
    "}"
   ]
  },
  {
   "cell_type": "code",
   "execution_count": 13,
   "id": "fa14dce0",
   "metadata": {},
   "outputs": [
    {
     "data": {
      "text/html": [
       "<ol class=list-inline>\n",
       "\t<li>10</li>\n",
       "\t<li>10</li>\n",
       "\t<li>10</li>\n",
       "\t<li>10</li>\n",
       "\t<li>10</li>\n",
       "\t<li>10</li>\n",
       "\t<li>10</li>\n",
       "\t<li>10</li>\n",
       "\t<li>10</li>\n",
       "\t<li>10</li>\n",
       "</ol>\n"
      ],
      "text/latex": [
       "\\begin{enumerate*}\n",
       "\\item 10\n",
       "\\item 10\n",
       "\\item 10\n",
       "\\item 10\n",
       "\\item 10\n",
       "\\item 10\n",
       "\\item 10\n",
       "\\item 10\n",
       "\\item 10\n",
       "\\item 10\n",
       "\\end{enumerate*}\n"
      ],
      "text/markdown": [
       "1. 10\n",
       "2. 10\n",
       "3. 10\n",
       "4. 10\n",
       "5. 10\n",
       "6. 10\n",
       "7. 10\n",
       "8. 10\n",
       "9. 10\n",
       "10. 10\n",
       "\n",
       "\n"
      ],
      "text/plain": [
       " [1] 10 10 10 10 10 10 10 10 10 10"
      ]
     },
     "metadata": {},
     "output_type": "display_data"
    }
   ],
   "source": [
    "frespe"
   ]
  },
  {
   "cell_type": "code",
   "execution_count": 14,
   "id": "3443b492",
   "metadata": {},
   "outputs": [
    {
     "data": {
      "text/html": [
       "100"
      ],
      "text/latex": [
       "100"
      ],
      "text/markdown": [
       "100"
      ],
      "text/plain": [
       "[1] 100"
      ]
     },
     "metadata": {},
     "output_type": "display_data"
    }
   ],
   "source": [
    "sum(frespe)"
   ]
  },
  {
   "cell_type": "markdown",
   "id": "93937051",
   "metadata": {},
   "source": [
    "**Frecuencias observadas**"
   ]
  },
  {
   "cell_type": "code",
   "execution_count": 15,
   "id": "382b8006",
   "metadata": {},
   "outputs": [],
   "source": [
    "frobs<-vector()"
   ]
  },
  {
   "cell_type": "code",
   "execution_count": 16,
   "id": "b1eea96e",
   "metadata": {},
   "outputs": [],
   "source": [
    "for(i in 1:k){\n",
    "    frobs[i]<-tunif[i]\n",
    "}"
   ]
  },
  {
   "cell_type": "code",
   "execution_count": 17,
   "id": "42cb0197",
   "metadata": {},
   "outputs": [
    {
     "data": {
      "text/html": [
       "<ol class=list-inline>\n",
       "\t<li>6</li>\n",
       "\t<li>12</li>\n",
       "\t<li>12</li>\n",
       "\t<li>15</li>\n",
       "\t<li>15</li>\n",
       "\t<li>9</li>\n",
       "\t<li>6</li>\n",
       "\t<li>5</li>\n",
       "\t<li>13</li>\n",
       "\t<li>7</li>\n",
       "</ol>\n"
      ],
      "text/latex": [
       "\\begin{enumerate*}\n",
       "\\item 6\n",
       "\\item 12\n",
       "\\item 12\n",
       "\\item 15\n",
       "\\item 15\n",
       "\\item 9\n",
       "\\item 6\n",
       "\\item 5\n",
       "\\item 13\n",
       "\\item 7\n",
       "\\end{enumerate*}\n"
      ],
      "text/markdown": [
       "1. 6\n",
       "2. 12\n",
       "3. 12\n",
       "4. 15\n",
       "5. 15\n",
       "6. 9\n",
       "7. 6\n",
       "8. 5\n",
       "9. 13\n",
       "10. 7\n",
       "\n",
       "\n"
      ],
      "text/plain": [
       " [1]  6 12 12 15 15  9  6  5 13  7"
      ]
     },
     "metadata": {},
     "output_type": "display_data"
    }
   ],
   "source": [
    "frobs"
   ]
  },
  {
   "cell_type": "code",
   "execution_count": 18,
   "id": "d014d696",
   "metadata": {},
   "outputs": [
    {
     "data": {
      "text/html": [
       "100"
      ],
      "text/latex": [
       "100"
      ],
      "text/markdown": [
       "100"
      ],
      "text/plain": [
       "[1] 100"
      ]
     },
     "metadata": {},
     "output_type": "display_data"
    }
   ],
   "source": [
    "sum(frobs)"
   ]
  },
  {
   "cell_type": "markdown",
   "id": "0e524b41",
   "metadata": {},
   "source": [
    "**Estadistico t**"
   ]
  },
  {
   "cell_type": "code",
   "execution_count": 19,
   "id": "75af6db9",
   "metadata": {},
   "outputs": [],
   "source": [
    "T<-sum((frobs-frespe)^2/frespe)"
   ]
  },
  {
   "cell_type": "code",
   "execution_count": 20,
   "id": "5fe3640c",
   "metadata": {},
   "outputs": [
    {
     "data": {
      "text/html": [
       "13.4"
      ],
      "text/latex": [
       "13.4"
      ],
      "text/markdown": [
       "13.4"
      ],
      "text/plain": [
       "[1] 13.4"
      ]
     },
     "metadata": {},
     "output_type": "display_data"
    }
   ],
   "source": [
    "T"
   ]
  },
  {
   "cell_type": "markdown",
   "id": "012c35d9",
   "metadata": {},
   "source": [
    "**Chi cuadrada**"
   ]
  },
  {
   "cell_type": "code",
   "execution_count": 21,
   "id": "ca178a7f",
   "metadata": {},
   "outputs": [],
   "source": [
    "gdl<-k-1"
   ]
  },
  {
   "cell_type": "code",
   "execution_count": 22,
   "id": "571f9a15",
   "metadata": {},
   "outputs": [],
   "source": [
    "pval<-pchisq(T, gdl, lower.tail=FALSE) # cola izq"
   ]
  },
  {
   "cell_type": "code",
   "execution_count": 23,
   "id": "6a596e24",
   "metadata": {},
   "outputs": [
    {
     "data": {
      "text/html": [
       "0.145326115749898"
      ],
      "text/latex": [
       "0.145326115749898"
      ],
      "text/markdown": [
       "0.145326115749898"
      ],
      "text/plain": [
       "[1] 0.1453261"
      ]
     },
     "metadata": {},
     "output_type": "display_data"
    }
   ],
   "source": [
    "pval"
   ]
  },
  {
   "cell_type": "code",
   "execution_count": 24,
   "id": "ada8a6d3",
   "metadata": {},
   "outputs": [],
   "source": [
    "prob<-vector()"
   ]
  },
  {
   "cell_type": "code",
   "execution_count": 25,
   "id": "63e84f3f",
   "metadata": {},
   "outputs": [],
   "source": [
    "for(i in 1:k){\n",
    "    prob[i]<-(clase[i+1]-clase[i])\n",
    "}"
   ]
  },
  {
   "cell_type": "code",
   "execution_count": 26,
   "id": "d3a959b4",
   "metadata": {},
   "outputs": [
    {
     "data": {
      "text/html": [
       "<ol class=list-inline>\n",
       "\t<li>0.1</li>\n",
       "\t<li>0.1</li>\n",
       "\t<li>0.1</li>\n",
       "\t<li>0.1</li>\n",
       "\t<li>0.1</li>\n",
       "\t<li>0.1</li>\n",
       "\t<li>0.1</li>\n",
       "\t<li>0.1</li>\n",
       "\t<li>0.1</li>\n",
       "\t<li>0.1</li>\n",
       "</ol>\n"
      ],
      "text/latex": [
       "\\begin{enumerate*}\n",
       "\\item 0.1\n",
       "\\item 0.1\n",
       "\\item 0.1\n",
       "\\item 0.1\n",
       "\\item 0.1\n",
       "\\item 0.1\n",
       "\\item 0.1\n",
       "\\item 0.1\n",
       "\\item 0.1\n",
       "\\item 0.1\n",
       "\\end{enumerate*}\n"
      ],
      "text/markdown": [
       "1. 0.1\n",
       "2. 0.1\n",
       "3. 0.1\n",
       "4. 0.1\n",
       "5. 0.1\n",
       "6. 0.1\n",
       "7. 0.1\n",
       "8. 0.1\n",
       "9. 0.1\n",
       "10. 0.1\n",
       "\n",
       "\n"
      ],
      "text/plain": [
       " [1] 0.1 0.1 0.1 0.1 0.1 0.1 0.1 0.1 0.1 0.1"
      ]
     },
     "metadata": {},
     "output_type": "display_data"
    }
   ],
   "source": [
    "prob"
   ]
  },
  {
   "cell_type": "code",
   "execution_count": 27,
   "id": "364c1a9b",
   "metadata": {},
   "outputs": [
    {
     "data": {
      "text/plain": [
       "\n",
       "\tChi-squared test for given probabilities\n",
       "\n",
       "data:  frobs\n",
       "X-squared = 13.4, df = 9, p-value = 0.1453\n"
      ]
     },
     "metadata": {},
     "output_type": "display_data"
    }
   ],
   "source": [
    "chisq.test(x=frobs,p=prob)"
   ]
  },
  {
   "cell_type": "markdown",
   "id": "cf139372",
   "metadata": {},
   "source": [
    "Nota: Un resultado de la simulación fue el anterior. Por lo que, con un $\\alpha=0.05$, como $p_(value)=0.1453$  $\\Rightarrow \\ alpha < p_(value)$ No se rechaza la hipotesis de que las variables aletorias provienen de una distribución uniforme"
   ]
  },
  {
   "cell_type": "code",
   "execution_count": 28,
   "id": "7580599e",
   "metadata": {},
   "outputs": [
    {
     "data": {
      "text/html": [
       "13.4"
      ],
      "text/latex": [
       "13.4"
      ],
      "text/markdown": [
       "13.4"
      ],
      "text/plain": [
       "[1] 13.4"
      ]
     },
     "metadata": {},
     "output_type": "display_data"
    }
   ],
   "source": [
    "T"
   ]
  },
  {
   "cell_type": "markdown",
   "id": "262ad129",
   "metadata": {},
   "source": [
    "Como $T=13.4 <\\chi_9^2= 16.91 \\Rightarrow $ No se rechaza la $H_0$"
   ]
  },
  {
   "cell_type": "markdown",
   "id": "82dc901b",
   "metadata": {},
   "source": [
    "## Prueba de rachas "
   ]
  },
  {
   "cell_type": "code",
   "execution_count": 7,
   "id": "80dc3a08",
   "metadata": {},
   "outputs": [],
   "source": [
    "U<-c(0 158,172,164,181,160,165)"
   ]
  },
  {
   "cell_type": "code",
   "execution_count": 8,
   "id": "dbb4e780",
   "metadata": {},
   "outputs": [
    {
     "data": {
      "text/html": [
       "<ol class=list-inline>\n",
       "\t<li>0.563</li>\n",
       "\t<li>0.478</li>\n",
       "\t<li>0.218</li>\n",
       "\t<li>0.396</li>\n",
       "\t<li>0.455</li>\n",
       "\t<li>0.624</li>\n",
       "\t<li>0.527</li>\n",
       "\t<li>0.163</li>\n",
       "\t<li>0.527</li>\n",
       "\t<li>0.692</li>\n",
       "\t<li>0.187</li>\n",
       "\t<li>0.005</li>\n",
       "\t<li>0.0382</li>\n",
       "\t<li>0.923</li>\n",
       "\t<li>0.147</li>\n",
       "\t<li>0.811</li>\n",
       "\t<li>0.531</li>\n",
       "\t<li>0.545</li>\n",
       "\t<li>0.45</li>\n",
       "\t<li>0.839</li>\n",
       "\t<li>0.999</li>\n",
       "\t<li>0.536</li>\n",
       "\t<li>0.926</li>\n",
       "\t<li>0.373</li>\n",
       "\t<li>0.986</li>\n",
       "\t<li>0.81</li>\n",
       "\t<li>0.067</li>\n",
       "\t<li>0.471</li>\n",
       "\t<li>0.824</li>\n",
       "\t<li>0.825</li>\n",
       "\t<li>1.809</li>\n",
       "\t<li>0.603</li>\n",
       "\t<li>0.397</li>\n",
       "\t<li>0.197</li>\n",
       "\t<li>0.811</li>\n",
       "\t<li>0.62</li>\n",
       "\t<li>0.671</li>\n",
       "\t<li>0.867</li>\n",
       "\t<li>0.02</li>\n",
       "\t<li>0.635</li>\n",
       "\t<li>0.429</li>\n",
       "\t<li>0.274</li>\n",
       "\t<li>0.264</li>\n",
       "\t<li>0.2174</li>\n",
       "\t<li>0.446</li>\n",
       "\t<li>0.049</li>\n",
       "\t<li>0.945</li>\n",
       "\t<li>0.132</li>\n",
       "\t<li>0.238</li>\n",
       "\t<li>0.082</li>\n",
       "</ol>\n"
      ],
      "text/latex": [
       "\\begin{enumerate*}\n",
       "\\item 0.563\n",
       "\\item 0.478\n",
       "\\item 0.218\n",
       "\\item 0.396\n",
       "\\item 0.455\n",
       "\\item 0.624\n",
       "\\item 0.527\n",
       "\\item 0.163\n",
       "\\item 0.527\n",
       "\\item 0.692\n",
       "\\item 0.187\n",
       "\\item 0.005\n",
       "\\item 0.0382\n",
       "\\item 0.923\n",
       "\\item 0.147\n",
       "\\item 0.811\n",
       "\\item 0.531\n",
       "\\item 0.545\n",
       "\\item 0.45\n",
       "\\item 0.839\n",
       "\\item 0.999\n",
       "\\item 0.536\n",
       "\\item 0.926\n",
       "\\item 0.373\n",
       "\\item 0.986\n",
       "\\item 0.81\n",
       "\\item 0.067\n",
       "\\item 0.471\n",
       "\\item 0.824\n",
       "\\item 0.825\n",
       "\\item 1.809\n",
       "\\item 0.603\n",
       "\\item 0.397\n",
       "\\item 0.197\n",
       "\\item 0.811\n",
       "\\item 0.62\n",
       "\\item 0.671\n",
       "\\item 0.867\n",
       "\\item 0.02\n",
       "\\item 0.635\n",
       "\\item 0.429\n",
       "\\item 0.274\n",
       "\\item 0.264\n",
       "\\item 0.2174\n",
       "\\item 0.446\n",
       "\\item 0.049\n",
       "\\item 0.945\n",
       "\\item 0.132\n",
       "\\item 0.238\n",
       "\\item 0.082\n",
       "\\end{enumerate*}\n"
      ],
      "text/markdown": [
       "1. 0.563\n",
       "2. 0.478\n",
       "3. 0.218\n",
       "4. 0.396\n",
       "5. 0.455\n",
       "6. 0.624\n",
       "7. 0.527\n",
       "8. 0.163\n",
       "9. 0.527\n",
       "10. 0.692\n",
       "11. 0.187\n",
       "12. 0.005\n",
       "13. 0.0382\n",
       "14. 0.923\n",
       "15. 0.147\n",
       "16. 0.811\n",
       "17. 0.531\n",
       "18. 0.545\n",
       "19. 0.45\n",
       "20. 0.839\n",
       "21. 0.999\n",
       "22. 0.536\n",
       "23. 0.926\n",
       "24. 0.373\n",
       "25. 0.986\n",
       "26. 0.81\n",
       "27. 0.067\n",
       "28. 0.471\n",
       "29. 0.824\n",
       "30. 0.825\n",
       "31. 1.809\n",
       "32. 0.603\n",
       "33. 0.397\n",
       "34. 0.197\n",
       "35. 0.811\n",
       "36. 0.62\n",
       "37. 0.671\n",
       "38. 0.867\n",
       "39. 0.02\n",
       "40. 0.635\n",
       "41. 0.429\n",
       "42. 0.274\n",
       "43. 0.264\n",
       "44. 0.2174\n",
       "45. 0.446\n",
       "46. 0.049\n",
       "47. 0.945\n",
       "48. 0.132\n",
       "49. 0.238\n",
       "50. 0.082\n",
       "\n",
       "\n"
      ],
      "text/plain": [
       " [1] 0.5630 0.4780 0.2180 0.3960 0.4550 0.6240 0.5270 0.1630 0.5270 0.6920\n",
       "[11] 0.1870 0.0050 0.0382 0.9230 0.1470 0.8110 0.5310 0.5450 0.4500 0.8390\n",
       "[21] 0.9990 0.5360 0.9260 0.3730 0.9860 0.8100 0.0670 0.4710 0.8240 0.8250\n",
       "[31] 1.8090 0.6030 0.3970 0.1970 0.8110 0.6200 0.6710 0.8670 0.0200 0.6350\n",
       "[41] 0.4290 0.2740 0.2640 0.2174 0.4460 0.0490 0.9450 0.1320 0.2380 0.0820"
      ]
     },
     "metadata": {},
     "output_type": "display_data"
    }
   ],
   "source": [
    "U"
   ]
  },
  {
   "cell_type": "markdown",
   "id": "a28cd2f8",
   "metadata": {},
   "source": [
    "**La obtención del número de rachas**"
   ]
  },
  {
   "cell_type": "code",
   "execution_count": 10,
   "id": "dfd06a51",
   "metadata": {},
   "outputs": [],
   "source": [
    "k<-length(U)"
   ]
  },
  {
   "cell_type": "code",
   "execution_count": 11,
   "id": "0cf9d805",
   "metadata": {},
   "outputs": [],
   "source": [
    "rachas<-vector()"
   ]
  },
  {
   "cell_type": "code",
   "execution_count": 14,
   "id": "4d23950a",
   "metadata": {},
   "outputs": [],
   "source": [
    "for (i in 1:k-1){\n",
    "    rachas[i]<-sign(U[i+1]-U[i])\n",
    "}"
   ]
  },
  {
   "cell_type": "code",
   "execution_count": 15,
   "id": "aea3606a",
   "metadata": {},
   "outputs": [
    {
     "data": {
      "text/html": [
       "<ol class=list-inline>\n",
       "\t<li>-1</li>\n",
       "\t<li>-1</li>\n",
       "\t<li>1</li>\n",
       "\t<li>1</li>\n",
       "\t<li>1</li>\n",
       "\t<li>-1</li>\n",
       "\t<li>-1</li>\n",
       "\t<li>1</li>\n",
       "\t<li>1</li>\n",
       "\t<li>-1</li>\n",
       "\t<li>-1</li>\n",
       "\t<li>1</li>\n",
       "\t<li>1</li>\n",
       "\t<li>-1</li>\n",
       "\t<li>1</li>\n",
       "\t<li>-1</li>\n",
       "\t<li>1</li>\n",
       "\t<li>-1</li>\n",
       "\t<li>1</li>\n",
       "\t<li>1</li>\n",
       "\t<li>-1</li>\n",
       "\t<li>1</li>\n",
       "\t<li>-1</li>\n",
       "\t<li>1</li>\n",
       "\t<li>-1</li>\n",
       "\t<li>-1</li>\n",
       "\t<li>1</li>\n",
       "\t<li>1</li>\n",
       "\t<li>1</li>\n",
       "\t<li>1</li>\n",
       "\t<li>-1</li>\n",
       "\t<li>-1</li>\n",
       "\t<li>-1</li>\n",
       "\t<li>1</li>\n",
       "\t<li>-1</li>\n",
       "\t<li>1</li>\n",
       "\t<li>1</li>\n",
       "\t<li>-1</li>\n",
       "\t<li>1</li>\n",
       "\t<li>-1</li>\n",
       "\t<li>-1</li>\n",
       "\t<li>-1</li>\n",
       "\t<li>-1</li>\n",
       "\t<li>1</li>\n",
       "\t<li>-1</li>\n",
       "\t<li>1</li>\n",
       "\t<li>-1</li>\n",
       "\t<li>1</li>\n",
       "\t<li>-1</li>\n",
       "</ol>\n"
      ],
      "text/latex": [
       "\\begin{enumerate*}\n",
       "\\item -1\n",
       "\\item -1\n",
       "\\item 1\n",
       "\\item 1\n",
       "\\item 1\n",
       "\\item -1\n",
       "\\item -1\n",
       "\\item 1\n",
       "\\item 1\n",
       "\\item -1\n",
       "\\item -1\n",
       "\\item 1\n",
       "\\item 1\n",
       "\\item -1\n",
       "\\item 1\n",
       "\\item -1\n",
       "\\item 1\n",
       "\\item -1\n",
       "\\item 1\n",
       "\\item 1\n",
       "\\item -1\n",
       "\\item 1\n",
       "\\item -1\n",
       "\\item 1\n",
       "\\item -1\n",
       "\\item -1\n",
       "\\item 1\n",
       "\\item 1\n",
       "\\item 1\n",
       "\\item 1\n",
       "\\item -1\n",
       "\\item -1\n",
       "\\item -1\n",
       "\\item 1\n",
       "\\item -1\n",
       "\\item 1\n",
       "\\item 1\n",
       "\\item -1\n",
       "\\item 1\n",
       "\\item -1\n",
       "\\item -1\n",
       "\\item -1\n",
       "\\item -1\n",
       "\\item 1\n",
       "\\item -1\n",
       "\\item 1\n",
       "\\item -1\n",
       "\\item 1\n",
       "\\item -1\n",
       "\\end{enumerate*}\n"
      ],
      "text/markdown": [
       "1. -1\n",
       "2. -1\n",
       "3. 1\n",
       "4. 1\n",
       "5. 1\n",
       "6. -1\n",
       "7. -1\n",
       "8. 1\n",
       "9. 1\n",
       "10. -1\n",
       "11. -1\n",
       "12. 1\n",
       "13. 1\n",
       "14. -1\n",
       "15. 1\n",
       "16. -1\n",
       "17. 1\n",
       "18. -1\n",
       "19. 1\n",
       "20. 1\n",
       "21. -1\n",
       "22. 1\n",
       "23. -1\n",
       "24. 1\n",
       "25. -1\n",
       "26. -1\n",
       "27. 1\n",
       "28. 1\n",
       "29. 1\n",
       "30. 1\n",
       "31. -1\n",
       "32. -1\n",
       "33. -1\n",
       "34. 1\n",
       "35. -1\n",
       "36. 1\n",
       "37. 1\n",
       "38. -1\n",
       "39. 1\n",
       "40. -1\n",
       "41. -1\n",
       "42. -1\n",
       "43. -1\n",
       "44. 1\n",
       "45. -1\n",
       "46. 1\n",
       "47. -1\n",
       "48. 1\n",
       "49. -1\n",
       "\n",
       "\n"
      ],
      "text/plain": [
       " [1] -1 -1  1  1  1 -1 -1  1  1 -1 -1  1  1 -1  1 -1  1 -1  1  1 -1  1 -1  1 -1\n",
       "[26] -1  1  1  1  1 -1 -1 -1  1 -1  1  1 -1  1 -1 -1 -1 -1  1 -1  1 -1  1 -1"
      ]
     },
     "metadata": {},
     "output_type": "display_data"
    }
   ],
   "source": [
    "rachas"
   ]
  },
  {
   "cell_type": "markdown",
   "id": "be452fba",
   "metadata": {},
   "source": [
    "**Contar con numero positivo**"
   ]
  },
  {
   "cell_type": "code",
   "execution_count": 28,
   "id": "ba129210",
   "metadata": {},
   "outputs": [],
   "source": [
    "n1<-length(rachas[rachas[]>0])"
   ]
  },
  {
   "cell_type": "markdown",
   "id": "8bba4c50",
   "metadata": {},
   "source": [
    "**Contar numeros negativos**"
   ]
  },
  {
   "cell_type": "code",
   "execution_count": 29,
   "id": "1f584195",
   "metadata": {},
   "outputs": [],
   "source": [
    "n2<-length(rachas[rachas[]<0])"
   ]
  },
  {
   "cell_type": "code",
   "execution_count": 30,
   "id": "8c58b94c",
   "metadata": {},
   "outputs": [],
   "source": [
    "m=n1+n2"
   ]
  },
  {
   "cell_type": "markdown",
   "id": "4e82a6b5",
   "metadata": {},
   "source": [
    "**Calculo de R**"
   ]
  },
  {
   "cell_type": "code",
   "execution_count": 31,
   "id": "4a3223f2",
   "metadata": {},
   "outputs": [],
   "source": [
    "R=0"
   ]
  },
  {
   "cell_type": "code",
   "execution_count": 32,
   "id": "a40a305f",
   "metadata": {},
   "outputs": [],
   "source": [
    "for(i in 1:(k-2)){\n",
    "    if(sign(rachas[i])!=sign(rachas[i+1]))\n",
    "        R=R+1\n",
    "}"
   ]
  },
  {
   "cell_type": "code",
   "execution_count": 33,
   "id": "572885ee",
   "metadata": {},
   "outputs": [
    {
     "data": {
      "text/html": [
       "30"
      ],
      "text/latex": [
       "30"
      ],
      "text/markdown": [
       "30"
      ],
      "text/plain": [
       "[1] 30"
      ]
     },
     "metadata": {},
     "output_type": "display_data"
    }
   ],
   "source": [
    "R"
   ]
  },
  {
   "cell_type": "markdown",
   "id": "c54d210c",
   "metadata": {},
   "source": [
    "**Calculo del estadistico**"
   ]
  },
  {
   "cell_type": "code",
   "execution_count": 35,
   "id": "1551bafa",
   "metadata": {},
   "outputs": [],
   "source": [
    "Z<-(R+0.5-(1+(2*n1*n2/m)))/sqrt((2*n1*n2*(2*n1*n2-m)/(m^2*(m-1))))"
   ]
  },
  {
   "cell_type": "code",
   "execution_count": 36,
   "id": "0bc13a27",
   "metadata": {},
   "outputs": [
    {
     "data": {
      "text/html": [
       "1.44725090664822"
      ],
      "text/latex": [
       "1.44725090664822"
      ],
      "text/markdown": [
       "1.44725090664822"
      ],
      "text/plain": [
       "[1] 1.447251"
      ]
     },
     "metadata": {},
     "output_type": "display_data"
    }
   ],
   "source": [
    "Z"
   ]
  },
  {
   "cell_type": "code",
   "execution_count": 37,
   "id": "67f7428e",
   "metadata": {},
   "outputs": [],
   "source": [
    "if(Z>0){\n",
    "    pvalue<-2*pnorm(Z, lower.tail=FALSE)\n",
    "} else{\n",
    "    pvalue<-2*pnorm(Z, lower.tail=TRUE)\n",
    "}"
   ]
  },
  {
   "cell_type": "code",
   "execution_count": 38,
   "id": "fee04e7b",
   "metadata": {},
   "outputs": [
    {
     "data": {
      "text/html": [
       "0.14782666350484"
      ],
      "text/latex": [
       "0.14782666350484"
      ],
      "text/markdown": [
       "0.14782666350484"
      ],
      "text/plain": [
       "[1] 0.1478267"
      ]
     },
     "metadata": {},
     "output_type": "display_data"
    }
   ],
   "source": [
    "pvalue"
   ]
  },
  {
   "cell_type": "markdown",
   "id": "30033fce",
   "metadata": {},
   "source": [
    "**Usando el valor de 0.05**"
   ]
  },
  {
   "cell_type": "code",
   "execution_count": 39,
   "id": "9a942353",
   "metadata": {},
   "outputs": [
    {
     "name": "stdout",
     "output_type": "stream",
     "text": [
      "[1] \"No se rechaza H0\"\n"
     ]
    }
   ],
   "source": [
    "if(pvalue<0.05){\n",
    "    print(\"Se rechaza H0\")\n",
    "}else{\n",
    "    print(\"No se rechaza H0\")\n",
    "}"
   ]
  },
  {
   "cell_type": "code",
   "execution_count": null,
   "id": "fa57d8ce",
   "metadata": {},
   "outputs": [],
   "source": []
  }
 ],
 "metadata": {
  "kernelspec": {
   "display_name": "R",
   "language": "R",
   "name": "ir"
  },
  "language_info": {
   "codemirror_mode": "r",
   "file_extension": ".r",
   "mimetype": "text/x-r-source",
   "name": "R",
   "pygments_lexer": "r",
   "version": "3.6.1"
  }
 },
 "nbformat": 4,
 "nbformat_minor": 5
}
